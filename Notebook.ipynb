{
 "cells": [
  {
   "cell_type": "code",
   "execution_count": 1,
   "id": "86d7d7a9",
   "metadata": {},
   "outputs": [],
   "source": [
    "import pandas as pd\n",
    "import matplotlib as plt\n",
    "import numpy as np\n",
    "\n",
    "from utils import (add_new_col, add_zero_right, col_replace,\n",
    "                   col_upper, col_upper_first_letter, df_astype,\n",
    "                   df_subtract_string, drop_col, drop_duplicates_keep_first,\n",
    "                   drop_row, rename_col, str_extract, str_strip)"
   ]
  },
  {
   "cell_type": "markdown",
   "id": "21150717",
   "metadata": {},
   "source": [
    "## Contexto\n",
    "\n",
    "A equipe de produtos da Geofusion tem recebido feedbacks da equipe comercial e eles dizem que alguns clientes do setor de alimentação (restaurantes, pizzarias, bares, etc.) estão procurando soluções que os ajudem a entender melhor seus concorrentes.\n",
    "\n",
    "Eles gostariam de saber:\n",
    "- qual é a faixa de preço praticada pelos concorrentes\n",
    "- como é o fluxo de pessoas nesses locais\n",
    "- qual é a população e a densidade demográfica dos bairros onde os concorrentes estão\n",
    "\n",
    "---"
   ]
  },
  {
   "cell_type": "markdown",
   "id": "915d9b60",
   "metadata": {},
   "source": [
    "## Carregamento dos dados\n",
    "\n",
    "Sugestão de estrutura. Utilize as células abaixo para carregar os dados e tratá-los na memória.\n",
    "\n",
    "São 4 arquivos:\n",
    "* [Bairros](https://s3.sa-east-1.amazonaws.com/geofusion-data-engineer-files/bairros.csv)\n",
    "  * Contém dados sobre bairros com código do município.\n",
    "* [Concorrentes](https://s3.sa-east-1.amazonaws.com/geofusion-data-engineer-files/concorrentes.csv)\n",
    "  * Contém dados sobre os concorrentes do meu estabelecimento.\n",
    "* [Eventos de Fluxo](https://s3.sa-east-1.amazonaws.com/geofusion-data-engineer-files/eventos_de_fluxo.csv.gz)\n",
    "  * Contém dados de eventos de visitas aos concorrentes com código do cliente, data da visita e código do concorrente.\n",
    "* [População](https://s3.sa-east-1.amazonaws.com/geofusion-data-engineer-files/populacao.json)\n",
    "  * Contém dados sobre a população dos bairros.\n",
    "\n",
    "Os arquivos também constam na pasta `./dados` desse projeto."
   ]
  },
  {
   "cell_type": "code",
   "execution_count": 2,
   "id": "76be40d1",
   "metadata": {},
   "outputs": [],
   "source": [
    "bairros_df = pd.read_csv('dados/bairros.csv')"
   ]
  },
  {
   "cell_type": "code",
   "execution_count": 3,
   "id": "7730ef61",
   "metadata": {},
   "outputs": [],
   "source": [
    "concorrentes_df = pd.read_csv('dados/concorrentes.csv')"
   ]
  },
  {
   "cell_type": "code",
   "execution_count": 4,
   "id": "ef7dd0f4",
   "metadata": {},
   "outputs": [],
   "source": [
    "populacao_df = pd.read_json('dados/populacao.json')"
   ]
  },
  {
   "cell_type": "code",
   "execution_count": 5,
   "id": "d46851b4",
   "metadata": {},
   "outputs": [],
   "source": [
    "eventos_fluxo_df = pd.read_csv('dados/eventos_de_fluxo.csv.gz', compression='gzip')"
   ]
  },
  {
   "cell_type": "code",
   "execution_count": 6,
   "id": "e69e2081",
   "metadata": {},
   "outputs": [],
   "source": [
    "# Implementação...\n",
    "# bairros_df.info()\n",
    "# concorrentes_df.info()\n",
    "# populacao_df.info()\n",
    "# eventos_fluxo_df.info()"
   ]
  },
  {
   "cell_type": "markdown",
   "id": "b1bbf20f",
   "metadata": {},
   "source": [
    "### Modelagem\n",
    "\n",
    "* Prepare os dados e os tipos corretos. Não assuma nada no dataset que você recebeu.\n",
    "* Modele uma estrutura (utilizando joins e merges) no pandas utilizando o Notebook em anexo. Essa estrutura precisa ser capaz de responder as seguintes perguntas:\n",
    "  * qual é a faixa de preço praticada pelos concorrentes\n",
    "  * como é o fluxo de pessoas nesses locais (média por dia, maximo e minimo por dia, etc)\n",
    "  * qual é a população e a densidade demográfica dos bairros onde os concorrentes estão\n",
    "* Sugira um schema de saída, com nome das colunas, tipos dos dados e uma sugestão de tipo de arquivo (CSV, Parquet, JSON, etc) e justifique. \n",
    "* Exemplifique com algumas queries em SQL como seria possivel nossos analistas extrairem as informações acima.\n",
    "\n",
    "#### Entrega\n",
    "* **Entregue o relatório acima em qualquer formato (Word, Markdown, etc).**\n",
    "* **Comprima seu projeto com tudo que você utilizou e envie para nós.**\n",
    "* **[plus] Comente sobre possíveis dificuldades que você tenha encontrado ao realizar o case.**"
   ]
  },
  {
   "cell_type": "code",
   "execution_count": 7,
   "id": "51938b69",
   "metadata": {},
   "outputs": [],
   "source": [
    "# Implementação...\n",
    "bairros_df_astype = {\n",
    "    \"codigo\": 'Int64',\n",
    "    \"nome\": str,\n",
    "    \"municipio\": str,\n",
    "    \"uf\": str,\n",
    "    \"area\": 'Float64'\n",
    "}\n",
    "\n",
    "bairros_df = df_astype(bairros_df, bairros_df_astype)\n",
    "bairros_df = col_upper(bairros_df, \"uf\")"
   ]
  },
  {
   "cell_type": "code",
   "execution_count": 8,
   "id": "d2cd326e",
   "metadata": {},
   "outputs": [],
   "source": [
    "concorrentes_df = add_new_col(concorrentes_df, 5, \"cep\", None)\n",
    "\n",
    "concorrentes_df_astype = {\n",
    "    \"codigo\": 'Int64',\n",
    "    \"nome\": str,\n",
    "    \"categoria\": str,\n",
    "    \"faixa_preco\": 'Int64',\n",
    "    \"endereco\": str,\n",
    "    \"cep\": str,\n",
    "    \"municipio\": str,\n",
    "    \"uf\": str,\n",
    "    \"codigo_bairro\": 'Int64'\n",
    "}\n",
    "\n",
    "concorrentes_df = df_astype(concorrentes_df, concorrentes_df_astype)\n",
    "concorrentes_df = str_extract(concorrentes_df, \"endereco\", \"cep\", r'(\\d{5}-?\\d{3}?)')\n",
    "concorrentes_df = add_zero_right(concorrentes_df, \"cep\", 8)\n",
    "concorrentes_df = col_upper(concorrentes_df, \"uf\")\n",
    "concorrentes_df = col_upper_first_letter(concorrentes_df, \"nome\")\n",
    "concorrentes_df = col_replace(concorrentes_df, r'(\\d{5})(\\d{3})', r'\\1-\\2', \"cep\")\n",
    "concorrentes_df = col_replace(concorrentes_df, r'(\\d{5}-?\\d{3})?', \"\", \"endereco\")\n",
    "concorrentes_df = df_subtract_string(concorrentes_df, \"municipio\", \"endereco\")\n",
    "concorrentes_df = df_subtract_string(concorrentes_df, \"uf\", \"endereco\")\n",
    "concorrentes_df = col_replace(concorrentes_df, r'[,]$', \"\", \"endereco\")\n",
    "concorrentes_df = str_strip(concorrentes_df, \"endereco\")\n",
    "concorrentes_df = col_replace(concorrentes_df, '', np.NaN, \"endereco\")\n",
    "concorrentes_df = col_replace(concorrentes_df, ['nan'], [None])\n",
    "concorrentes_df = drop_row(concorrentes_df, [\"municipio\"])"
   ]
  },
  {
   "cell_type": "code",
   "execution_count": 9,
   "id": "f92fbb26",
   "metadata": {},
   "outputs": [],
   "source": [
    "populacao_df_astype = {\n",
    "    \"codigo\": 'Int64',\n",
    "    \"populacao\": 'Float64'\n",
    "}\n",
    "\n",
    "populacao_df = df_astype(populacao_df, populacao_df_astype)\n",
    "populacao_df = drop_row(populacao_df, [\"populacao\"])"
   ]
  },
  {
   "cell_type": "code",
   "execution_count": 10,
   "id": "2fea5f40",
   "metadata": {},
   "outputs": [],
   "source": [
    "eventos_fluxo_df[[\"datetime\"]] = eventos_fluxo_df[[\"datetime\"]].apply(lambda x: pd.to_datetime(x, format='ISO8601'))\n",
    "\n",
    "eventos_fluxo_df_astype = {\n",
    "    \"codigo\": str,\n",
    "    \"datetime\": 'datetime64[ns]',\n",
    "    \"codigo_concorrente\": 'Int64'\n",
    "}\n",
    "\n",
    "eventos_fluxo_df = df_astype(eventos_fluxo_df, eventos_fluxo_df_astype)\n",
    "eventos_fluxo_df = drop_duplicates_keep_first(eventos_fluxo_df)"
   ]
  },
  {
   "attachments": {},
   "cell_type": "markdown",
   "id": "0801d0cd",
   "metadata": {},
   "source": [
    "* Qual é a faixa de preço praticada pelos concorrentes?"
   ]
  },
  {
   "cell_type": "code",
   "execution_count": 11,
   "id": "b96b7414",
   "metadata": {},
   "outputs": [
    {
     "data": {
      "text/html": [
       "<div>\n",
       "<style scoped>\n",
       "    .dataframe tbody tr th:only-of-type {\n",
       "        vertical-align: middle;\n",
       "    }\n",
       "\n",
       "    .dataframe tbody tr th {\n",
       "        vertical-align: top;\n",
       "    }\n",
       "\n",
       "    .dataframe thead th {\n",
       "        text-align: right;\n",
       "    }\n",
       "</style>\n",
       "<table border=\"1\" class=\"dataframe\">\n",
       "  <thead>\n",
       "    <tr style=\"text-align: right;\">\n",
       "      <th></th>\n",
       "      <th></th>\n",
       "      <th></th>\n",
       "      <th></th>\n",
       "      <th></th>\n",
       "      <th>max</th>\n",
       "      <th>min</th>\n",
       "      <th>mean</th>\n",
       "    </tr>\n",
       "    <tr>\n",
       "      <th>codigo_bairro</th>\n",
       "      <th>nome_bairro</th>\n",
       "      <th>municipio</th>\n",
       "      <th>uf</th>\n",
       "      <th>categoria</th>\n",
       "      <th></th>\n",
       "      <th></th>\n",
       "      <th></th>\n",
       "    </tr>\n",
       "  </thead>\n",
       "  <tbody>\n",
       "    <tr>\n",
       "      <th rowspan=\"2\" valign=\"top\">35095064</th>\n",
       "      <th rowspan=\"2\" valign=\"top\">Centro</th>\n",
       "      <th rowspan=\"2\" valign=\"top\">Campinas</th>\n",
       "      <th rowspan=\"2\" valign=\"top\">SP</th>\n",
       "      <th>Bar, Dance &amp; Night Club</th>\n",
       "      <td>4</td>\n",
       "      <td>4</td>\n",
       "      <td>4.0</td>\n",
       "    </tr>\n",
       "    <tr>\n",
       "      <th>Brazilian Restaurant, Bar, Bar &amp; Grill</th>\n",
       "      <td>3</td>\n",
       "      <td>3</td>\n",
       "      <td>3.0</td>\n",
       "    </tr>\n",
       "  </tbody>\n",
       "</table>\n",
       "</div>"
      ],
      "text/plain": [
       "                                                                               max   \n",
       "codigo_bairro nome_bairro municipio uf categoria                                     \n",
       "35095064      Centro      Campinas  SP Bar, Dance & Night Club                   4  \\\n",
       "                                       Brazilian Restaurant, Bar, Bar & Grill    3   \n",
       "\n",
       "                                                                               min   \n",
       "codigo_bairro nome_bairro municipio uf categoria                                     \n",
       "35095064      Centro      Campinas  SP Bar, Dance & Night Club                   4  \\\n",
       "                                       Brazilian Restaurant, Bar, Bar & Grill    3   \n",
       "\n",
       "                                                                               mean  \n",
       "codigo_bairro nome_bairro municipio uf categoria                                     \n",
       "35095064      Centro      Campinas  SP Bar, Dance & Night Club                  4.0  \n",
       "                                       Brazilian Restaurant, Bar, Bar & Grill   3.0  "
      ]
     },
     "execution_count": 11,
     "metadata": {},
     "output_type": "execute_result"
    }
   ],
   "source": [
    "faixa_preco_df = concorrentes_df.join(\n",
    "    bairros_df.set_index('codigo'), how=\"inner\", on=\"codigo_bairro\", rsuffix=\"_bairro\"\n",
    ")\n",
    "\n",
    "faixa_preco_df = drop_col(faixa_preco_df, [\"municipio_bairro\", \"uf_bairro\", \"cep\"])\n",
    "faixa_preco_df = rename_col(faixa_preco_df, {'codigo': 'codigo_concorrente', 'nome': 'nome_concorrente'})\n",
    "\n",
    "faixa_preco_df = faixa_preco_df.groupby([\"codigo_bairro\", \"nome_bairro\", \"municipio\", \"uf\", \"categoria\"])[\"faixa_preco\"].agg([\"max\", \"min\", \"mean\"])\n",
    "\n",
    "faixa_preco_df.head(2)"
   ]
  },
  {
   "attachments": {},
   "cell_type": "markdown",
   "id": "09a7b9c2",
   "metadata": {},
   "source": [
    "* Como é o fluxo de pessoas nesses locais (média por dia, maximo e minimo por dia, etc)?"
   ]
  },
  {
   "cell_type": "code",
   "execution_count": 12,
   "id": "138da4bd",
   "metadata": {},
   "outputs": [
    {
     "data": {
      "text/html": [
       "<div>\n",
       "<style scoped>\n",
       "    .dataframe tbody tr th:only-of-type {\n",
       "        vertical-align: middle;\n",
       "    }\n",
       "\n",
       "    .dataframe tbody tr th {\n",
       "        vertical-align: top;\n",
       "    }\n",
       "\n",
       "    .dataframe thead th {\n",
       "        text-align: right;\n",
       "    }\n",
       "</style>\n",
       "<table border=\"1\" class=\"dataframe\">\n",
       "  <thead>\n",
       "    <tr style=\"text-align: right;\">\n",
       "      <th></th>\n",
       "      <th></th>\n",
       "      <th></th>\n",
       "      <th></th>\n",
       "      <th></th>\n",
       "      <th>max</th>\n",
       "      <th>min</th>\n",
       "      <th>mean</th>\n",
       "    </tr>\n",
       "    <tr>\n",
       "      <th>codigo_bairro</th>\n",
       "      <th>nome_bairro</th>\n",
       "      <th>municipio</th>\n",
       "      <th>uf</th>\n",
       "      <th>categoria</th>\n",
       "      <th></th>\n",
       "      <th></th>\n",
       "      <th></th>\n",
       "    </tr>\n",
       "  </thead>\n",
       "  <tbody>\n",
       "    <tr>\n",
       "      <th rowspan=\"2\" valign=\"top\">35095064</th>\n",
       "      <th rowspan=\"2\" valign=\"top\">Centro</th>\n",
       "      <th rowspan=\"2\" valign=\"top\">Campinas</th>\n",
       "      <th rowspan=\"2\" valign=\"top\">SP</th>\n",
       "      <th>Bar, Dance &amp; Night Club</th>\n",
       "      <td>42</td>\n",
       "      <td>1</td>\n",
       "      <td>17.147059</td>\n",
       "    </tr>\n",
       "    <tr>\n",
       "      <th>Brazilian Restaurant, Bar, Bar &amp; Grill</th>\n",
       "      <td>44</td>\n",
       "      <td>1</td>\n",
       "      <td>23.264706</td>\n",
       "    </tr>\n",
       "  </tbody>\n",
       "</table>\n",
       "</div>"
      ],
      "text/plain": [
       "                                                                               max   \n",
       "codigo_bairro nome_bairro municipio uf categoria                                     \n",
       "35095064      Centro      Campinas  SP Bar, Dance & Night Club                  42  \\\n",
       "                                       Brazilian Restaurant, Bar, Bar & Grill   44   \n",
       "\n",
       "                                                                               min   \n",
       "codigo_bairro nome_bairro municipio uf categoria                                     \n",
       "35095064      Centro      Campinas  SP Bar, Dance & Night Club                   1  \\\n",
       "                                       Brazilian Restaurant, Bar, Bar & Grill    1   \n",
       "\n",
       "                                                                                    mean  \n",
       "codigo_bairro nome_bairro municipio uf categoria                                          \n",
       "35095064      Centro      Campinas  SP Bar, Dance & Night Club                 17.147059  \n",
       "                                       Brazilian Restaurant, Bar, Bar & Grill  23.264706  "
      ]
     },
     "execution_count": 12,
     "metadata": {},
     "output_type": "execute_result"
    }
   ],
   "source": [
    "fluxo_pessoas_df = pd.merge(\n",
    "    concorrentes_df,\n",
    "    eventos_fluxo_df,\n",
    "    how=\"inner\",\n",
    "    left_on=\"codigo\",\n",
    "    right_on=\"codigo_concorrente\",\n",
    "    suffixes=('_x', '_fluxo')\n",
    ").join(\n",
    "    bairros_df.set_index('codigo'), how=\"inner\", on=\"codigo_bairro\", rsuffix=\"_bairro\"\n",
    ")\n",
    "\n",
    "fluxo_pessoas_df = drop_col(fluxo_pessoas_df, [\"codigo_x\", \"municipio_bairro\", \"uf_bairro\", \"cep\"])\n",
    "\n",
    "fluxo_pessoas_df[\"date\"] = fluxo_pessoas_df[\"datetime\"].dt.normalize()\n",
    "\n",
    "fluxo_pessoas_df_count = fluxo_pessoas_df.groupby([\"codigo_bairro\", \"nome_bairro\", \"municipio\", \"uf\", \"categoria\", \"date\"])[\"date\"].agg([\"count\"])\n",
    "fluxo_pessoas_df_count = fluxo_pessoas_df_count.groupby([\"codigo_bairro\", \"nome_bairro\", \"municipio\", \"uf\", \"categoria\"])[\"count\"].agg([\"max\", \"min\", \"mean\"])\n",
    "\n",
    "fluxo_pessoas_df_count.head(2)"
   ]
  },
  {
   "attachments": {},
   "cell_type": "markdown",
   "id": "6ee9da51",
   "metadata": {},
   "source": [
    "* Qual é a população e a densidade demográfica dos bairros onde os concorrentes estão?"
   ]
  },
  {
   "cell_type": "code",
   "execution_count": 13,
   "id": "327e7ccf",
   "metadata": {},
   "outputs": [
    {
     "data": {
      "text/html": [
       "<div>\n",
       "<style scoped>\n",
       "    .dataframe tbody tr th:only-of-type {\n",
       "        vertical-align: middle;\n",
       "    }\n",
       "\n",
       "    .dataframe tbody tr th {\n",
       "        vertical-align: top;\n",
       "    }\n",
       "\n",
       "    .dataframe thead th {\n",
       "        text-align: right;\n",
       "    }\n",
       "</style>\n",
       "<table border=\"1\" class=\"dataframe\">\n",
       "  <thead>\n",
       "    <tr style=\"text-align: right;\">\n",
       "      <th></th>\n",
       "      <th>bairro</th>\n",
       "      <th>municipio</th>\n",
       "      <th>uf</th>\n",
       "      <th>populacao</th>\n",
       "      <th>densidade_demo</th>\n",
       "    </tr>\n",
       "  </thead>\n",
       "  <tbody>\n",
       "    <tr>\n",
       "      <th>0</th>\n",
       "      <td>Observatório</td>\n",
       "      <td>Valinhos</td>\n",
       "      <td>SP</td>\n",
       "      <td>8717.0</td>\n",
       "      <td>128.18948</td>\n",
       "    </tr>\n",
       "    <tr>\n",
       "      <th>14</th>\n",
       "      <td>Rp 6-24</td>\n",
       "      <td>Hortolândia</td>\n",
       "      <td>SP</td>\n",
       "      <td>5764.0</td>\n",
       "      <td>5871.040816</td>\n",
       "    </tr>\n",
       "  </tbody>\n",
       "</table>\n",
       "</div>"
      ],
      "text/plain": [
       "          bairro    municipio  uf  populacao  densidade_demo\n",
       "0   Observatório     Valinhos  SP     8717.0       128.18948\n",
       "14       Rp 6-24  Hortolândia  SP     5764.0     5871.040816"
      ]
     },
     "execution_count": 13,
     "metadata": {},
     "output_type": "execute_result"
    }
   ],
   "source": [
    "densidade_demo_df = bairros_df.join(\n",
    "    populacao_df.set_index('codigo'),\n",
    "    on=\"codigo\",\n",
    "    how=\"inner\",\n",
    "    rsuffix=\"_right\"\n",
    ").merge(\n",
    "    concorrentes_df, how=\"inner\", left_on=\"codigo\", right_on=\"codigo_bairro\"\n",
    ")\n",
    "\n",
    "densidade_demo_df['densidade_demo'] = densidade_demo_df['populacao'] / densidade_demo_df['area']\n",
    "\n",
    "densidade_demo_df = drop_col(densidade_demo_df, [\"codigo_x\", \"uf_y\", \"municipio_y\"])\n",
    "densidade_demo_df = rename_col(densidade_demo_df, {\n",
    "    'nome_x': 'bairro',\n",
    "    'municipio_x': 'municipio',\n",
    "    'uf_x': 'uf',\n",
    "    'nome_y': 'nome',\n",
    "    'codigo_y': 'codigo',\n",
    "})\n",
    "\n",
    "densidade_demo_df = densidade_demo_df[[\"bairro\", \"municipio\", \"uf\", \"populacao\", \"densidade_demo\"]]\n",
    "\n",
    "densidade_demo_df = drop_duplicates_keep_first(densidade_demo_df)\n",
    "\n",
    "densidade_demo_df.head(2)"
   ]
  },
  {
   "attachments": {},
   "cell_type": "markdown",
   "id": "27ddf001",
   "metadata": {},
   "source": [
    "Sugira um schema de saída, com nome das colunas, tipos dos dados e uma sugestão de tipo de arquivo (CSV, Parquet, JSON, etc) e justifique."
   ]
  },
  {
   "cell_type": "code",
   "execution_count": 14,
   "id": "8e7b2f80",
   "metadata": {},
   "outputs": [],
   "source": [
    "df = pd.merge(\n",
    "    concorrentes_df,\n",
    "    eventos_fluxo_df,\n",
    "    how=\"inner\",\n",
    "    left_on=\"codigo\",\n",
    "    right_on=\"codigo_concorrente\"\n",
    ").join(\n",
    "    populacao_df.set_index('codigo'), how=\"inner\", on=\"codigo_bairro\"\n",
    ").join(\n",
    "    bairros_df.set_index('codigo'), how=\"inner\", on=\"codigo_bairro\", rsuffix=\"_right\"\n",
    ")\n",
    "\n",
    "df[\"date\"] = df[\"datetime\"].dt.normalize()\n",
    "df['densidade_demo'] = df['populacao'] / df['area']\n",
    "\n",
    "df = drop_col(df, [\"codigo_x\", \"cep\", \"municipio_right\", \"uf_right\"])\n",
    "df = rename_col(df, {\n",
    "    'codigo_y': 'codigo_fluxo',\n",
    "    'nome': 'nome_concorrente',\n",
    "    'nome_right': 'nome_bairro'\n",
    "})\n",
    "\n",
    "df = df[['codigo_concorrente', 'nome_concorrente', 'categoria', 'faixa_preco', 'endereco', 'municipio',\n",
    "        'uf', 'codigo_bairro', 'nome_bairro', 'populacao', 'area', 'densidade_demo', 'codigo_fluxo',\n",
    "        'datetime', 'date']]"
   ]
  },
  {
   "attachments": {},
   "cell_type": "markdown",
   "id": "44883e26",
   "metadata": {},
   "source": [
    "Exemplo de como ficaria:"
   ]
  },
  {
   "cell_type": "code",
   "execution_count": 15,
   "id": "f509050d",
   "metadata": {},
   "outputs": [
    {
     "data": {
      "text/html": [
       "<div>\n",
       "<style scoped>\n",
       "    .dataframe tbody tr th:only-of-type {\n",
       "        vertical-align: middle;\n",
       "    }\n",
       "\n",
       "    .dataframe tbody tr th {\n",
       "        vertical-align: top;\n",
       "    }\n",
       "\n",
       "    .dataframe thead th {\n",
       "        text-align: right;\n",
       "    }\n",
       "</style>\n",
       "<table border=\"1\" class=\"dataframe\">\n",
       "  <thead>\n",
       "    <tr style=\"text-align: right;\">\n",
       "      <th></th>\n",
       "      <th>codigo_concorrente</th>\n",
       "      <th>nome_concorrente</th>\n",
       "      <th>categoria</th>\n",
       "      <th>faixa_preco</th>\n",
       "      <th>endereco</th>\n",
       "      <th>municipio</th>\n",
       "      <th>uf</th>\n",
       "      <th>codigo_bairro</th>\n",
       "      <th>nome_bairro</th>\n",
       "      <th>populacao</th>\n",
       "      <th>area</th>\n",
       "      <th>densidade_demo</th>\n",
       "      <th>codigo_fluxo</th>\n",
       "      <th>datetime</th>\n",
       "      <th>date</th>\n",
       "    </tr>\n",
       "  </thead>\n",
       "  <tbody>\n",
       "    <tr>\n",
       "      <th>0</th>\n",
       "      <td>1806610362988069</td>\n",
       "      <td>Restaurante Jangada Dom Pedro</td>\n",
       "      <td>Restaurant</td>\n",
       "      <td>2</td>\n",
       "      <td>shopping D.Pedro</td>\n",
       "      <td>Campinas</td>\n",
       "      <td>SP</td>\n",
       "      <td>35095070</td>\n",
       "      <td>Taquaral</td>\n",
       "      <td>62735.0</td>\n",
       "      <td>13.1911</td>\n",
       "      <td>4755.858116</td>\n",
       "      <td>l5tFvFcOOEISPofKxd6hQqGsMM0n49jP96SOoTifcxJUOD...</td>\n",
       "      <td>2017-07-17 15:22:31.935</td>\n",
       "      <td>2017-07-17</td>\n",
       "    </tr>\n",
       "  </tbody>\n",
       "</table>\n",
       "</div>"
      ],
      "text/plain": [
       "   codigo_concorrente               nome_concorrente   categoria  faixa_preco   \n",
       "0    1806610362988069  Restaurante Jangada Dom Pedro  Restaurant            2  \\\n",
       "\n",
       "           endereco municipio  uf  codigo_bairro nome_bairro  populacao   \n",
       "0  shopping D.Pedro  Campinas  SP       35095070    Taquaral    62735.0  \\\n",
       "\n",
       "      area  densidade_demo                                       codigo_fluxo   \n",
       "0  13.1911     4755.858116  l5tFvFcOOEISPofKxd6hQqGsMM0n49jP96SOoTifcxJUOD...  \\\n",
       "\n",
       "                 datetime       date  \n",
       "0 2017-07-17 15:22:31.935 2017-07-17  "
      ]
     },
     "execution_count": 15,
     "metadata": {},
     "output_type": "execute_result"
    }
   ],
   "source": [
    "df.head(1)"
   ]
  },
  {
   "cell_type": "markdown",
   "id": "9d4e8d48",
   "metadata": {},
   "source": [
    "Schema sugerido:"
   ]
  },
  {
   "cell_type": "code",
   "execution_count": 16,
   "id": "2b7f04cb",
   "metadata": {},
   "outputs": [],
   "source": [
    "schema_astype = {\n",
    "    \"codigo_concorrente\": 'Int64',\n",
    "    \"nome_concorrente\": str,\n",
    "    \"categoria\": str,\n",
    "    \"faixa_preco\": 'Int64',\n",
    "    \"endereco\": str,\n",
    "    \"municipio\": str,\n",
    "    \"uf\": str,\n",
    "    \"codigo_bairro\": 'Int64',\n",
    "    \"nome_bairro\": str,\n",
    "    \"populacao\": 'Float64',\n",
    "    \"area\": 'Float64',\n",
    "    \"densidade_demo\": 'Float64',\n",
    "    \"codigo_fluxo\": str,\n",
    "    \"datetime\": 'datetime64[ns]',\n",
    "    \"date\": 'datetime64[ns]',\n",
    "}\n",
    "\n",
    "df = df_astype(df, schema_astype)"
   ]
  },
  {
   "attachments": {},
   "cell_type": "markdown",
   "id": "2a65b5f7",
   "metadata": {},
   "source": [
    "Tipo de arquivo e justificativa:"
   ]
  },
  {
   "attachments": {},
   "cell_type": "markdown",
   "id": "c78fa9fe",
   "metadata": {},
   "source": [
    "Usaria o formato de arquivo de saída em Parquet. Por ser um formato de arquivo que possui um tempo de leitura rápido. É possível evoluir o schema. Os dados são armazenados em coluna, o que acabando sendo interessante quando se possui muitas colunas, visto que não é preciso analisar todo o arquivo, é possível verificar apenas os metadados, e selecionar apenas as colunas que o usuário deseja, lendo apenas partes da informação, o que economiza tempo e custo. O tamanho do armazenamento é menor em relação ao CSVs por exemplo."
   ]
  },
  {
   "cell_type": "markdown",
   "id": "a8f33124",
   "metadata": {},
   "source": [
    "## Saída (output)\n",
    "\n",
    "Persista no disco um arquivo no disco de acordo com sua sugestão."
   ]
  },
  {
   "cell_type": "code",
   "execution_count": 17,
   "id": "b9051b1a",
   "metadata": {},
   "outputs": [],
   "source": [
    "# Implementação...\n",
    "df.to_parquet('saida/dataset_final.parquet')"
   ]
  },
  {
   "attachments": {},
   "cell_type": "markdown",
   "id": "b2f6e582",
   "metadata": {},
   "source": [
    "#### Exemplifique com algumas queries em SQL como seria possivel nossos analistas extrairem as informações acima"
   ]
  },
  {
   "attachments": {},
   "cell_type": "markdown",
   "id": "c90ef91b",
   "metadata": {},
   "source": [
    "OBS: As queries foram escritas em SQL, o pandas foi utilizado apenas para teste e validação\n",
    "OBS 02: Foi colocado um limit nas queries apenas para reduzir a quantidade de dados"
   ]
  },
  {
   "cell_type": "code",
   "execution_count": 18,
   "id": "3dfba27e",
   "metadata": {},
   "outputs": [],
   "source": [
    "from pandasql import sqldf"
   ]
  },
  {
   "attachments": {},
   "cell_type": "markdown",
   "id": "9d8d76e9",
   "metadata": {},
   "source": [
    "Qual é a faixa de preço praticada pelos concorrentes?"
   ]
  },
  {
   "cell_type": "code",
   "execution_count": 19,
   "id": "a6e866e1",
   "metadata": {},
   "outputs": [
    {
     "data": {
      "text/html": [
       "<div>\n",
       "<style scoped>\n",
       "    .dataframe tbody tr th:only-of-type {\n",
       "        vertical-align: middle;\n",
       "    }\n",
       "\n",
       "    .dataframe tbody tr th {\n",
       "        vertical-align: top;\n",
       "    }\n",
       "\n",
       "    .dataframe thead th {\n",
       "        text-align: right;\n",
       "    }\n",
       "</style>\n",
       "<table border=\"1\" class=\"dataframe\">\n",
       "  <thead>\n",
       "    <tr style=\"text-align: right;\">\n",
       "      <th></th>\n",
       "      <th>codigo_bairro</th>\n",
       "      <th>nome_bairro</th>\n",
       "      <th>municipio</th>\n",
       "      <th>uf</th>\n",
       "      <th>categoria</th>\n",
       "      <th>max_faixa_preco</th>\n",
       "      <th>min_faixa_preco</th>\n",
       "      <th>media_faixa_preco</th>\n",
       "    </tr>\n",
       "  </thead>\n",
       "  <tbody>\n",
       "    <tr>\n",
       "      <th>0</th>\n",
       "      <td>35095064</td>\n",
       "      <td>Centro</td>\n",
       "      <td>Campinas</td>\n",
       "      <td>SP</td>\n",
       "      <td>Bar, Dance &amp; Night Club</td>\n",
       "      <td>4</td>\n",
       "      <td>4</td>\n",
       "      <td>4.0</td>\n",
       "    </tr>\n",
       "    <tr>\n",
       "      <th>1</th>\n",
       "      <td>35095064</td>\n",
       "      <td>Centro</td>\n",
       "      <td>Campinas</td>\n",
       "      <td>SP</td>\n",
       "      <td>Brazilian Restaurant, Bar, Bar &amp; Grill</td>\n",
       "      <td>3</td>\n",
       "      <td>3</td>\n",
       "      <td>3.0</td>\n",
       "    </tr>\n",
       "    <tr>\n",
       "      <th>2</th>\n",
       "      <td>35095064</td>\n",
       "      <td>Centro</td>\n",
       "      <td>Campinas</td>\n",
       "      <td>SP</td>\n",
       "      <td>Brewery, Bar, Restaurant</td>\n",
       "      <td>2</td>\n",
       "      <td>2</td>\n",
       "      <td>2.0</td>\n",
       "    </tr>\n",
       "  </tbody>\n",
       "</table>\n",
       "</div>"
      ],
      "text/plain": [
       "   codigo_bairro nome_bairro municipio  uf   \n",
       "0       35095064      Centro  Campinas  SP  \\\n",
       "1       35095064      Centro  Campinas  SP   \n",
       "2       35095064      Centro  Campinas  SP   \n",
       "\n",
       "                                categoria  max_faixa_preco  min_faixa_preco   \n",
       "0                 Bar, Dance & Night Club                4                4  \\\n",
       "1  Brazilian Restaurant, Bar, Bar & Grill                3                3   \n",
       "2                Brewery, Bar, Restaurant                2                2   \n",
       "\n",
       "   media_faixa_preco  \n",
       "0                4.0  \n",
       "1                3.0  \n",
       "2                2.0  "
      ]
     },
     "execution_count": 19,
     "metadata": {},
     "output_type": "execute_result"
    }
   ],
   "source": [
    "query_01 = \"\"\"\n",
    "    SELECT\n",
    "        \"codigo_bairro\", \"nome_bairro\", \"municipio\", \"uf\", \"categoria\", MAX(\"faixa_preco\") as max_faixa_preco, MIN(\"faixa_preco\") as min_faixa_preco, AVG(\"faixa_preco\") as media_faixa_preco\n",
    "    FROM\n",
    "        df\n",
    "    GROUP BY\n",
    "        \"codigo_bairro\", \"nome_bairro\", \"municipio\", \"uf\", \"categoria\"\n",
    "    LIMIT 3\n",
    "\"\"\"\n",
    "sqldf(query_01, globals())"
   ]
  },
  {
   "attachments": {},
   "cell_type": "markdown",
   "id": "e04b1881",
   "metadata": {},
   "source": [
    "Como é o fluxo de pessoas nesses locais (média por dia, maximo e minimo por dia, etc)?"
   ]
  },
  {
   "cell_type": "code",
   "execution_count": 20,
   "id": "075e45e1",
   "metadata": {},
   "outputs": [
    {
     "data": {
      "text/html": [
       "<div>\n",
       "<style scoped>\n",
       "    .dataframe tbody tr th:only-of-type {\n",
       "        vertical-align: middle;\n",
       "    }\n",
       "\n",
       "    .dataframe tbody tr th {\n",
       "        vertical-align: top;\n",
       "    }\n",
       "\n",
       "    .dataframe thead th {\n",
       "        text-align: right;\n",
       "    }\n",
       "</style>\n",
       "<table border=\"1\" class=\"dataframe\">\n",
       "  <thead>\n",
       "    <tr style=\"text-align: right;\">\n",
       "      <th></th>\n",
       "      <th>codigo_bairro</th>\n",
       "      <th>nome_bairro</th>\n",
       "      <th>municipio</th>\n",
       "      <th>uf</th>\n",
       "      <th>categoria</th>\n",
       "      <th>max_por_dia</th>\n",
       "      <th>min_por_dia</th>\n",
       "      <th>media_por_dia</th>\n",
       "    </tr>\n",
       "  </thead>\n",
       "  <tbody>\n",
       "    <tr>\n",
       "      <th>0</th>\n",
       "      <td>35095064</td>\n",
       "      <td>Centro</td>\n",
       "      <td>Campinas</td>\n",
       "      <td>SP</td>\n",
       "      <td>Bar, Dance &amp; Night Club</td>\n",
       "      <td>42</td>\n",
       "      <td>1</td>\n",
       "      <td>17.147059</td>\n",
       "    </tr>\n",
       "    <tr>\n",
       "      <th>1</th>\n",
       "      <td>35095064</td>\n",
       "      <td>Centro</td>\n",
       "      <td>Campinas</td>\n",
       "      <td>SP</td>\n",
       "      <td>Brazilian Restaurant, Bar, Bar &amp; Grill</td>\n",
       "      <td>44</td>\n",
       "      <td>1</td>\n",
       "      <td>23.264706</td>\n",
       "    </tr>\n",
       "    <tr>\n",
       "      <th>2</th>\n",
       "      <td>35095064</td>\n",
       "      <td>Centro</td>\n",
       "      <td>Campinas</td>\n",
       "      <td>SP</td>\n",
       "      <td>Brewery, Bar, Restaurant</td>\n",
       "      <td>47</td>\n",
       "      <td>1</td>\n",
       "      <td>20.250000</td>\n",
       "    </tr>\n",
       "  </tbody>\n",
       "</table>\n",
       "</div>"
      ],
      "text/plain": [
       "   codigo_bairro nome_bairro municipio  uf   \n",
       "0       35095064      Centro  Campinas  SP  \\\n",
       "1       35095064      Centro  Campinas  SP   \n",
       "2       35095064      Centro  Campinas  SP   \n",
       "\n",
       "                                categoria  max_por_dia  min_por_dia   \n",
       "0                 Bar, Dance & Night Club           42            1  \\\n",
       "1  Brazilian Restaurant, Bar, Bar & Grill           44            1   \n",
       "2                Brewery, Bar, Restaurant           47            1   \n",
       "\n",
       "   media_por_dia  \n",
       "0      17.147059  \n",
       "1      23.264706  \n",
       "2      20.250000  "
      ]
     },
     "execution_count": 20,
     "metadata": {},
     "output_type": "execute_result"
    }
   ],
   "source": [
    "query_02 = \"\"\"\n",
    "    SELECT\n",
    "        \"codigo_bairro\"\n",
    "        , \"nome_bairro\"\n",
    "        , \"municipio\"\n",
    "        , \"uf\"\n",
    "        , \"categoria\"\n",
    "        , MAX(\"count_date\") as max_por_dia\n",
    "        , MIN(\"count_date\") as min_por_dia\n",
    "        , AVG(\"count_date\") as media_por_dia\n",
    "    FROM\n",
    "        (\n",
    "        SELECT\n",
    "            \"codigo_bairro\", \"nome_bairro\", \"municipio\", \"uf\", \"categoria\", DATE(\"date\") as date, COUNT(\"date\") as count_date\n",
    "        FROM\n",
    "            df\n",
    "        GROUP BY\n",
    "            \"codigo_bairro\", \"nome_bairro\", \"municipio\", \"uf\", \"categoria\", \"date\"\n",
    "    )\n",
    "    GROUP BY\n",
    "        \"codigo_bairro\", \"nome_bairro\", \"municipio\", \"uf\", \"categoria\"\n",
    "    LIMIT 3\n",
    "\"\"\"\n",
    "sqldf(query_02, globals())"
   ]
  },
  {
   "attachments": {},
   "cell_type": "markdown",
   "id": "364577a9",
   "metadata": {},
   "source": [
    "Qual é a população e a densidade demográfica dos bairros onde os concorrentes estão?"
   ]
  },
  {
   "cell_type": "code",
   "execution_count": 21,
   "id": "4ada38e4",
   "metadata": {},
   "outputs": [
    {
     "data": {
      "text/html": [
       "<div>\n",
       "<style scoped>\n",
       "    .dataframe tbody tr th:only-of-type {\n",
       "        vertical-align: middle;\n",
       "    }\n",
       "\n",
       "    .dataframe tbody tr th {\n",
       "        vertical-align: top;\n",
       "    }\n",
       "\n",
       "    .dataframe thead th {\n",
       "        text-align: right;\n",
       "    }\n",
       "</style>\n",
       "<table border=\"1\" class=\"dataframe\">\n",
       "  <thead>\n",
       "    <tr style=\"text-align: right;\">\n",
       "      <th></th>\n",
       "      <th>codigo_bairro</th>\n",
       "      <th>nome_bairro</th>\n",
       "      <th>municipio</th>\n",
       "      <th>uf</th>\n",
       "      <th>populacao</th>\n",
       "      <th>densidade_demo</th>\n",
       "    </tr>\n",
       "  </thead>\n",
       "  <tbody>\n",
       "    <tr>\n",
       "      <th>0</th>\n",
       "      <td>35095070</td>\n",
       "      <td>Taquaral</td>\n",
       "      <td>Campinas</td>\n",
       "      <td>SP</td>\n",
       "      <td>62735.0</td>\n",
       "      <td>4755.858116</td>\n",
       "    </tr>\n",
       "    <tr>\n",
       "      <th>1</th>\n",
       "      <td>35095067</td>\n",
       "      <td>Amoreiras</td>\n",
       "      <td>Campinas</td>\n",
       "      <td>SP</td>\n",
       "      <td>60786.0</td>\n",
       "      <td>6047.275115</td>\n",
       "    </tr>\n",
       "    <tr>\n",
       "      <th>2</th>\n",
       "      <td>35095091</td>\n",
       "      <td>Complexo Delta</td>\n",
       "      <td>Campinas</td>\n",
       "      <td>SP</td>\n",
       "      <td>469.0</td>\n",
       "      <td>30.294222</td>\n",
       "    </tr>\n",
       "  </tbody>\n",
       "</table>\n",
       "</div>"
      ],
      "text/plain": [
       "   codigo_bairro     nome_bairro municipio  uf  populacao  densidade_demo\n",
       "0       35095070        Taquaral  Campinas  SP    62735.0     4755.858116\n",
       "1       35095067       Amoreiras  Campinas  SP    60786.0     6047.275115\n",
       "2       35095091  Complexo Delta  Campinas  SP      469.0       30.294222"
      ]
     },
     "execution_count": 21,
     "metadata": {},
     "output_type": "execute_result"
    }
   ],
   "source": [
    "query_03 = \"\"\"\n",
    "    SELECT DISTINCT\n",
    "        \"codigo_bairro\", \"nome_bairro\", \"municipio\", \"uf\", \"populacao\", \"densidade_demo\"\n",
    "    FROM\n",
    "        df\n",
    "    LIMIT 3\n",
    "\"\"\"\n",
    "sqldf(query_03, globals())"
   ]
  },
  {
   "attachments": {},
   "cell_type": "markdown",
   "id": "7402187b",
   "metadata": {},
   "source": [
    "[plus] Comente sobre possíveis dificuldades que você tenha encontrado ao realizar o case."
   ]
  },
  {
   "attachments": {},
   "cell_type": "markdown",
   "id": "786df949",
   "metadata": {},
   "source": [
    "Uma das dificuldades encontradas foi no dataframe 'concorrentes_df' do arquivo concorrentes.csv, onde existia uma coluna chamada ENDEREÇO, e nessa coluna não existia um padrão muito específico que desse para usar um regex, e  consequentemente extrair (separar) os campo de logradouro, número por exemplo. Sendo necessário fazer um regex para extrair os CEP, e em seguida subtrair os valores de MUNICÍPIO e UF do ENDEREÇO, o que deixou um pouco mais padronizado."
   ]
  }
 ],
 "metadata": {
  "kernelspec": {
   "display_name": "Python 3 (ipykernel)",
   "language": "python",
   "name": "python3"
  },
  "language_info": {
   "codemirror_mode": {
    "name": "ipython",
    "version": 3
   },
   "file_extension": ".py",
   "mimetype": "text/x-python",
   "name": "python",
   "nbconvert_exporter": "python",
   "pygments_lexer": "ipython3",
   "version": "3.10.10"
  }
 },
 "nbformat": 4,
 "nbformat_minor": 5
}
